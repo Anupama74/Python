{
 "cells": [
  {
   "cell_type": "code",
   "execution_count": 1,
   "metadata": {},
   "outputs": [],
   "source": [
    "import pandas as pd\n",
    "import numpy as np\n",
    "import os,glob\n",
    "import cv2\n",
    "import scipy.io\n",
    "from sklearn.model_selection import train_test_split\n",
    "from sklearn.preprocessing import LabelEncoder\n",
    "from sklearn.metrics import accuracy_score\n",
    "import heapq"
   ]
  },
  {
   "cell_type": "code",
   "execution_count": 2,
   "metadata": {
    "scrolled": true
   },
   "outputs": [
    {
     "name": "stderr",
     "output_type": "stream",
     "text": [
      "C:\\Users\\admin\\Anaconda3\\lib\\site-packages\\h5py\\__init__.py:36: FutureWarning: Conversion of the second argument of issubdtype from `float` to `np.floating` is deprecated. In future, it will be treated as `np.float64 == np.dtype(float).type`.\n",
      "  from ._conv import register_converters as _register_converters\n",
      "Using TensorFlow backend.\n"
     ]
    }
   ],
   "source": [
    "from keras.applications.vgg16 import VGG16,preprocess_input\n",
    "from keras.layers import Flatten, Dense, Input,concatenate\n",
    "from keras.layers import Activation, Dropout, GlobalAveragePooling2D,GlobalMaxPooling2D\n",
    "from keras.models import Model\n",
    "from keras.models import Sequential\n",
    "import scipy.spatial.distance as dist\n",
    "from keras.optimizers import Adam,SGD\n",
    "from keras.preprocessing.image import img_to_array\n",
    "from keras.applications import imagenet_utils\n",
    "from keras.layers import MaxPooling2D,Conv2D\n",
    "from keras.utils.np_utils import to_categorical"
   ]
  },
  {
   "cell_type": "code",
   "execution_count": 16,
   "metadata": {},
   "outputs": [],
   "source": [
    "def lencode(dataset):\n",
    "    data1 = le.fit_transform(dataset)\n",
    "    data = to_categorical(data1,len(dataset))# len(x_train))\n",
    "    return data\n",
    "\n",
    "def get_feature_vector(img):\n",
    "    img1 = cv2.resize(img, (imgsize,imgsize))\n",
    "    feature_vector = output_layer.predict(img1.reshape(1,imgsize, imgsize, 3))\n",
    "    return feature_vector\n",
    "\n",
    "def retriev_top5(pred_y):\n",
    "    top2,top3,top4,top5 =[],[],[],[]\n",
    "    yhat = pred_y\n",
    "    for i in range(len(yhat)):\n",
    "        pred = np.argmax(yhat[i], out=None)   # The class1 belong to \n",
    "        for n in range(2,6):\n",
    "            x = heapq.nlargest(n, yhat[i], key=None)\n",
    "            for j in range(0,len(x)):\n",
    "                arr = np.where(yhat==x[j])\n",
    "            if n==2:\n",
    "                if len(arr[1])>1:\n",
    "                    top2.append(int(arr[1][0]))\n",
    "                else:\n",
    "                    top2.append(int(arr[1]))\n",
    "            elif n==3:\n",
    "                if len(arr[1])>1:\n",
    "                    top3.append(int(arr[1][0]))\n",
    "                else:\n",
    "                    top3.append(int(arr[1]))\n",
    "            \n",
    "            elif n==4:\n",
    "                if len(arr[1])>1:\n",
    "                    top4.append(int(arr[1][0]))\n",
    "                else:\n",
    "                    top4.append(int(arr[1]))\n",
    "            \n",
    "            elif n==5:\n",
    "                if len(arr[1])>1:\n",
    "                    top5.append(int(arr[1][0]))\n",
    "                else:\n",
    "                    top5.append(int(arr[1]))\n",
    "    top1 = y_pred\n",
    "    top2 = le.inverse_transform(top2)\n",
    "    top3 = le.inverse_transform(top3)\n",
    "    top4 = le.inverse_transform(top4)\n",
    "    top5 = le.inverse_transform(top5)\n",
    "    return top1,top2,top3,top4,top5\n",
    "\n",
    "def calculate_similarity(vector1, vector2):\n",
    "    return 1-dist.cosine(vector1, vector2)\n",
    "\n",
    "def get_class(df2,y_iname):\n",
    "    classes=[]\n",
    "    for i in range(len(y_true)):\n",
    "        for j in range(len(df2)):\n",
    "            if y_iname[i]==df2['imagelabel'][j]:\n",
    "                cls = df2['class'][j]\n",
    "                classes.append(cls)\n",
    "    return classes\n",
    "\n",
    "def find_similarity(origtest, testtop):\n",
    "    values=[]\n",
    "    for i in range(len(origtest)):\n",
    "        imagepath1 = os.path.join(path,origtest[i])\n",
    "        imagepath2 = os.path.join(path,testtop[i])\n",
    "        im1 = cv2.imread(imagepath1)\n",
    "        im2 =cv2.imread(imagepath2)\n",
    "        f1 = get_feature_vector(im1)\n",
    "        f2 =get_feature_vector(im2)\n",
    "        cs = calculate_similarity(f1,f2)\n",
    "        values.append(round(cs,2))\n",
    "    return values"
   ]
  },
  {
   "cell_type": "code",
   "execution_count": 3,
   "metadata": {},
   "outputs": [],
   "source": [
    "imgsize=100\n",
    "loadweight = r'F:\\samsung_ip_dataset\\vgg16_weights_tf_dim_ordering_tf_kernels_notop.h5'"
   ]
  },
  {
   "cell_type": "code",
   "execution_count": 4,
   "metadata": {},
   "outputs": [
    {
     "name": "stdout",
     "output_type": "stream",
     "text": [
      "<keras.engine.input_layer.InputLayer object at 0x000001B126906A90> False\n",
      "<keras.layers.convolutional.Conv2D object at 0x000001B126906F98> False\n",
      "<keras.layers.convolutional.Conv2D object at 0x000001B126906E10> False\n",
      "<keras.layers.pooling.MaxPooling2D object at 0x000001B126917898> False\n",
      "<keras.layers.convolutional.Conv2D object at 0x000001B126917F60> False\n",
      "<keras.layers.convolutional.Conv2D object at 0x000001B1269583C8> False\n",
      "<keras.layers.pooling.MaxPooling2D object at 0x000001B126971160> False\n",
      "<keras.layers.convolutional.Conv2D object at 0x000001B126971E80> False\n",
      "<keras.layers.convolutional.Conv2D object at 0x000001B1269A3208> False\n",
      "<keras.layers.convolutional.Conv2D object at 0x000001B1269BD2E8> False\n",
      "<keras.layers.pooling.MaxPooling2D object at 0x000001B1269D0240> False\n",
      "<keras.layers.convolutional.Conv2D object at 0x000001B1269D0E80> False\n",
      "<keras.layers.convolutional.Conv2D object at 0x000001B126A0A208> False\n",
      "<keras.layers.convolutional.Conv2D object at 0x000001B126A232E8> False\n",
      "<keras.layers.pooling.MaxPooling2D object at 0x000001B126A39240> False\n",
      "<keras.layers.convolutional.Conv2D object at 0x000001B126A39E80> False\n",
      "<keras.layers.convolutional.Conv2D object at 0x000001B126A6E208> False\n",
      "<keras.layers.convolutional.Conv2D object at 0x000001B126A88320> False\n",
      "<keras.layers.pooling.MaxPooling2D object at 0x000001B126AA12B0> False\n",
      "_________________________________________________________________\n",
      "Layer (type)                 Output Shape              Param #   \n",
      "=================================================================\n",
      "input_1 (InputLayer)         (None, 100, 100, 3)       0         \n",
      "_________________________________________________________________\n",
      "block1_conv1 (Conv2D)        (None, 100, 100, 64)      1792      \n",
      "_________________________________________________________________\n",
      "block1_conv2 (Conv2D)        (None, 100, 100, 64)      36928     \n",
      "_________________________________________________________________\n",
      "block1_pool (MaxPooling2D)   (None, 50, 50, 64)        0         \n",
      "_________________________________________________________________\n",
      "block2_conv1 (Conv2D)        (None, 50, 50, 128)       73856     \n",
      "_________________________________________________________________\n",
      "block2_conv2 (Conv2D)        (None, 50, 50, 128)       147584    \n",
      "_________________________________________________________________\n",
      "block2_pool (MaxPooling2D)   (None, 25, 25, 128)       0         \n",
      "_________________________________________________________________\n",
      "block3_conv1 (Conv2D)        (None, 25, 25, 256)       295168    \n",
      "_________________________________________________________________\n",
      "block3_conv2 (Conv2D)        (None, 25, 25, 256)       590080    \n",
      "_________________________________________________________________\n",
      "block3_conv3 (Conv2D)        (None, 25, 25, 256)       590080    \n",
      "_________________________________________________________________\n",
      "block3_pool (MaxPooling2D)   (None, 12, 12, 256)       0         \n",
      "_________________________________________________________________\n",
      "block4_conv1 (Conv2D)        (None, 12, 12, 512)       1180160   \n",
      "_________________________________________________________________\n",
      "block4_conv2 (Conv2D)        (None, 12, 12, 512)       2359808   \n",
      "_________________________________________________________________\n",
      "block4_conv3 (Conv2D)        (None, 12, 12, 512)       2359808   \n",
      "_________________________________________________________________\n",
      "block4_pool (MaxPooling2D)   (None, 6, 6, 512)         0         \n",
      "_________________________________________________________________\n",
      "block5_conv1 (Conv2D)        (None, 6, 6, 512)         2359808   \n",
      "_________________________________________________________________\n",
      "block5_conv2 (Conv2D)        (None, 6, 6, 512)         2359808   \n",
      "_________________________________________________________________\n",
      "block5_conv3 (Conv2D)        (None, 6, 6, 512)         2359808   \n",
      "_________________________________________________________________\n",
      "block5_pool (MaxPooling2D)   (None, 3, 3, 512)         0         \n",
      "_________________________________________________________________\n",
      "flatten (Flatten)            (None, 4608)              0         \n",
      "_________________________________________________________________\n",
      "dropout_1 (Dropout)          (None, 4608)              0         \n",
      "_________________________________________________________________\n",
      "fc1 (Dense)                  (None, 4096)              18878464  \n",
      "_________________________________________________________________\n",
      "dropout_2 (Dropout)          (None, 4096)              0         \n",
      "_________________________________________________________________\n",
      "fc2 (Dense)                  (None, 2048)              8390656   \n",
      "=================================================================\n",
      "Total params: 41,983,808\n",
      "Trainable params: 27,269,120\n",
      "Non-trainable params: 14,714,688\n",
      "_________________________________________________________________\n"
     ]
    }
   ],
   "source": [
    "basemodel = VGG16(weights=loadweight, include_top=False, input_shape = (imgsize, imgsize, 3))\n",
    "#basemodel.summary()\n",
    "for layer in basemodel.layers:\n",
    "    layer.trainable = False\n",
    "    \n",
    "for layer in basemodel.layers:\n",
    "    print(layer,layer.trainable)\n",
    "\n",
    "# # build top model\n",
    "x = Flatten(name='flatten')(basemodel.output)\n",
    "x = Dropout(0.8)(x)\n",
    "x = Dense(4096, activation='relu', name='fc1')(x)\n",
    "x = Dropout(0.6)(x)\n",
    "x = Dense(2048, activation='relu', name='fc2')(x)\n",
    "\n",
    "# stitch together\n",
    "vgg16 = Model(inputs= basemodel.input, outputs=x)\n",
    "\n",
    "# # inspect\n",
    "vgg16.summary()"
   ]
  },
  {
   "cell_type": "code",
   "execution_count": 5,
   "metadata": {},
   "outputs": [],
   "source": [
    "output_layer = Model(inputs=vgg16.input, outputs=vgg16.get_layer('fc2').output)"
   ]
  },
  {
   "cell_type": "code",
   "execution_count": 6,
   "metadata": {},
   "outputs": [],
   "source": [
    "#########n Get image data"
   ]
  },
  {
   "cell_type": "code",
   "execution_count": 6,
   "metadata": {},
   "outputs": [],
   "source": [
    "path= r'F:\\samsung_ip_dataset\\Batch1'\n",
    "X=[]\n",
    "imgsize = 100\n",
    "for image_name in glob.glob(os.path.join(path, '*.jpg')):\n",
    "    img = cv2.imread(image_name)\n",
    "    img = cv2.resize(img,(imgsize,imgsize))\n",
    "    X.append(np.array(img))"
   ]
  },
  {
   "cell_type": "code",
   "execution_count": 7,
   "metadata": {},
   "outputs": [
    {
     "name": "stdout",
     "output_type": "stream",
     "text": [
      "2068\n"
     ]
    },
    {
     "data": {
      "text/plain": [
       "numpy.ndarray"
      ]
     },
     "execution_count": 7,
     "metadata": {},
     "output_type": "execute_result"
    }
   ],
   "source": [
    "X = np.array(X)\n",
    "X=X/255\n",
    "print(len(X))\n",
    "type(X)"
   ]
  },
  {
   "cell_type": "code",
   "execution_count": 8,
   "metadata": {},
   "outputs": [],
   "source": [
    "####    Extract Image feeatures"
   ]
  },
  {
   "cell_type": "code",
   "execution_count": 9,
   "metadata": {},
   "outputs": [],
   "source": [
    "feat = basemodel.predict(X, batch_size=32)"
   ]
  },
  {
   "cell_type": "code",
   "execution_count": 10,
   "metadata": {},
   "outputs": [
    {
     "data": {
      "text/plain": [
       "(2068, 3, 3, 512)"
      ]
     },
     "execution_count": 10,
     "metadata": {},
     "output_type": "execute_result"
    }
   ],
   "source": [
    "x_features = feat\n",
    "feat.shape"
   ]
  },
  {
   "cell_type": "markdown",
   "metadata": {},
   "source": [
    "Loading Class Label data"
   ]
  },
  {
   "cell_type": "code",
   "execution_count": 11,
   "metadata": {},
   "outputs": [
    {
     "data": {
      "text/html": [
       "<div>\n",
       "<style scoped>\n",
       "    .dataframe tbody tr th:only-of-type {\n",
       "        vertical-align: middle;\n",
       "    }\n",
       "\n",
       "    .dataframe tbody tr th {\n",
       "        vertical-align: top;\n",
       "    }\n",
       "\n",
       "    .dataframe thead th {\n",
       "        text-align: right;\n",
       "    }\n",
       "</style>\n",
       "<table border=\"1\" class=\"dataframe\">\n",
       "  <thead>\n",
       "    <tr style=\"text-align: right;\">\n",
       "      <th></th>\n",
       "      <th>0</th>\n",
       "    </tr>\n",
       "  </thead>\n",
       "  <tbody>\n",
       "    <tr>\n",
       "      <th>0</th>\n",
       "      <td>77</td>\n",
       "    </tr>\n",
       "    <tr>\n",
       "      <th>1</th>\n",
       "      <td>77</td>\n",
       "    </tr>\n",
       "    <tr>\n",
       "      <th>2</th>\n",
       "      <td>77</td>\n",
       "    </tr>\n",
       "    <tr>\n",
       "      <th>3</th>\n",
       "      <td>77</td>\n",
       "    </tr>\n",
       "    <tr>\n",
       "      <th>4</th>\n",
       "      <td>77</td>\n",
       "    </tr>\n",
       "  </tbody>\n",
       "</table>\n",
       "</div>"
      ],
      "text/plain": [
       "    0\n",
       "0  77\n",
       "1  77\n",
       "2  77\n",
       "3  77\n",
       "4  77"
      ]
     },
     "execution_count": 11,
     "metadata": {},
     "output_type": "execute_result"
    }
   ],
   "source": [
    "mat = scipy.io.loadmat('imagelabels.mat')\n",
    "labels = mat['labels']\n",
    "#print(labels)\n",
    "pds = pd.Series(data=labels[0])\n",
    "df = pd.DataFrame(pds,index = list(range(0,len(pds))))\n",
    "df.head()"
   ]
  },
  {
   "cell_type": "code",
   "execution_count": 12,
   "metadata": {},
   "outputs": [
    {
     "name": "stdout",
     "output_type": "stream",
     "text": [
      "num of classes for batch2:  13\n",
      "2068\n"
     ]
    },
    {
     "data": {
      "text/html": [
       "<div>\n",
       "<style scoped>\n",
       "    .dataframe tbody tr th:only-of-type {\n",
       "        vertical-align: middle;\n",
       "    }\n",
       "\n",
       "    .dataframe tbody tr th {\n",
       "        vertical-align: top;\n",
       "    }\n",
       "\n",
       "    .dataframe thead th {\n",
       "        text-align: right;\n",
       "    }\n",
       "</style>\n",
       "<table border=\"1\" class=\"dataframe\">\n",
       "  <thead>\n",
       "    <tr style=\"text-align: right;\">\n",
       "      <th></th>\n",
       "      <th>class</th>\n",
       "    </tr>\n",
       "  </thead>\n",
       "  <tbody>\n",
       "    <tr>\n",
       "      <th>2063</th>\n",
       "      <td>80</td>\n",
       "    </tr>\n",
       "    <tr>\n",
       "      <th>2064</th>\n",
       "      <td>80</td>\n",
       "    </tr>\n",
       "    <tr>\n",
       "      <th>2065</th>\n",
       "      <td>80</td>\n",
       "    </tr>\n",
       "    <tr>\n",
       "      <th>2066</th>\n",
       "      <td>80</td>\n",
       "    </tr>\n",
       "    <tr>\n",
       "      <th>2067</th>\n",
       "      <td>80</td>\n",
       "    </tr>\n",
       "  </tbody>\n",
       "</table>\n",
       "</div>"
      ],
      "text/plain": [
       "      class\n",
       "2063     80\n",
       "2064     80\n",
       "2065     80\n",
       "2066     80\n",
       "2067     80"
      ]
     },
     "execution_count": 12,
     "metadata": {},
     "output_type": "execute_result"
    }
   ],
   "source": [
    "df2 = pd.DataFrame(index = list(range(len(df[:len(X)]))))\n",
    "df2['class'] = df[:len(X)].reset_index(drop=True)\n",
    "n = len(df2['class'].unique())\n",
    "print('num of classes for batch2: ', len(df2['class'].unique()))\n",
    "print(len(df2))\n",
    "df2.tail()"
   ]
  },
  {
   "cell_type": "markdown",
   "metadata": {},
   "source": [
    "Loading Image Label data"
   ]
  },
  {
   "cell_type": "code",
   "execution_count": 17,
   "metadata": {},
   "outputs": [],
   "source": [
    "le = LabelEncoder()"
   ]
  },
  {
   "cell_type": "code",
   "execution_count": 18,
   "metadata": {},
   "outputs": [],
   "source": [
    "names = os.listdir(path)"
   ]
  },
  {
   "cell_type": "code",
   "execution_count": 19,
   "metadata": {},
   "outputs": [
    {
     "data": {
      "text/plain": [
       "array([[1., 0., 0., ..., 0., 0., 0.],\n",
       "       [0., 1., 0., ..., 0., 0., 0.],\n",
       "       [0., 0., 1., ..., 0., 0., 0.],\n",
       "       ...,\n",
       "       [0., 0., 0., ..., 1., 0., 0.],\n",
       "       [0., 0., 0., ..., 0., 1., 0.],\n",
       "       [0., 0., 0., ..., 0., 0., 1.]], dtype=float32)"
      ]
     },
     "execution_count": 19,
     "metadata": {},
     "output_type": "execute_result"
    }
   ],
   "source": [
    "ynames = lencode(names)\n",
    "ynames"
   ]
  },
  {
   "cell_type": "code",
   "execution_count": 20,
   "metadata": {},
   "outputs": [],
   "source": [
    "df2['imagelabel'] = names"
   ]
  },
  {
   "cell_type": "code",
   "execution_count": 21,
   "metadata": {},
   "outputs": [
    {
     "data": {
      "text/html": [
       "<div>\n",
       "<style scoped>\n",
       "    .dataframe tbody tr th:only-of-type {\n",
       "        vertical-align: middle;\n",
       "    }\n",
       "\n",
       "    .dataframe tbody tr th {\n",
       "        vertical-align: top;\n",
       "    }\n",
       "\n",
       "    .dataframe thead th {\n",
       "        text-align: right;\n",
       "    }\n",
       "</style>\n",
       "<table border=\"1\" class=\"dataframe\">\n",
       "  <thead>\n",
       "    <tr style=\"text-align: right;\">\n",
       "      <th></th>\n",
       "      <th>class</th>\n",
       "      <th>imagelabel</th>\n",
       "    </tr>\n",
       "  </thead>\n",
       "  <tbody>\n",
       "    <tr>\n",
       "      <th>2063</th>\n",
       "      <td>80</td>\n",
       "      <td>image_02064.jpg</td>\n",
       "    </tr>\n",
       "    <tr>\n",
       "      <th>2064</th>\n",
       "      <td>80</td>\n",
       "      <td>image_02065.jpg</td>\n",
       "    </tr>\n",
       "    <tr>\n",
       "      <th>2065</th>\n",
       "      <td>80</td>\n",
       "      <td>image_02066.jpg</td>\n",
       "    </tr>\n",
       "    <tr>\n",
       "      <th>2066</th>\n",
       "      <td>80</td>\n",
       "      <td>image_02067.jpg</td>\n",
       "    </tr>\n",
       "    <tr>\n",
       "      <th>2067</th>\n",
       "      <td>80</td>\n",
       "      <td>image_02068.jpg</td>\n",
       "    </tr>\n",
       "  </tbody>\n",
       "</table>\n",
       "</div>"
      ],
      "text/plain": [
       "      class       imagelabel\n",
       "2063     80  image_02064.jpg\n",
       "2064     80  image_02065.jpg\n",
       "2065     80  image_02066.jpg\n",
       "2066     80  image_02067.jpg\n",
       "2067     80  image_02068.jpg"
      ]
     },
     "execution_count": 21,
     "metadata": {},
     "output_type": "execute_result"
    }
   ],
   "source": [
    "df2.tail()"
   ]
  },
  {
   "cell_type": "code",
   "execution_count": 22,
   "metadata": {},
   "outputs": [],
   "source": [
    "# Train and test set"
   ]
  },
  {
   "cell_type": "code",
   "execution_count": 23,
   "metadata": {},
   "outputs": [
    {
     "name": "stdout",
     "output_type": "stream",
     "text": [
      "number of train images: 1240\n",
      "number of val and test images: 414 414\n"
     ]
    }
   ],
   "source": [
    "x_train,x_rest,y_train,y_rest = train_test_split(x_features,ynames,test_size=0.40)\n",
    "\n",
    "print('number of train images:', len(x_train))#,len(x_test))\n",
    "#print(len(y_train), len(y_test))\n",
    "\n",
    "x_val,x_test,y_val, y_test = train_test_split(x_rest,y_rest,test_size = 0.50)\n",
    "\n",
    "print('number of val and test images:',len(x_val),len(x_test))\n",
    "#print(len(y_val), len(y_test))\n"
   ]
  },
  {
   "cell_type": "code",
   "execution_count": 24,
   "metadata": {},
   "outputs": [
    {
     "data": {
      "text/plain": [
       "(3, 3, 512)"
      ]
     },
     "execution_count": 24,
     "metadata": {},
     "output_type": "execute_result"
    }
   ],
   "source": [
    "x_train.shape[1:]"
   ]
  },
  {
   "cell_type": "markdown",
   "metadata": {},
   "source": [
    "Build a sequential model to match features\n"
   ]
  },
  {
   "cell_type": "code",
   "execution_count": 25,
   "metadata": {},
   "outputs": [
    {
     "data": {
      "text/plain": [
       "2068"
      ]
     },
     "execution_count": 25,
     "metadata": {},
     "output_type": "execute_result"
    }
   ],
   "source": [
    "len(x_features)"
   ]
  },
  {
   "cell_type": "code",
   "execution_count": 29,
   "metadata": {},
   "outputs": [
    {
     "name": "stdout",
     "output_type": "stream",
     "text": [
      "_________________________________________________________________\n",
      "Layer (type)                 Output Shape              Param #   \n",
      "=================================================================\n",
      "global_average_pooling2d_2 ( (None, 512)               0         \n",
      "_________________________________________________________________\n",
      "dropout_4 (Dropout)          (None, 512)               0         \n",
      "_________________________________________________________________\n",
      "dense_3 (Dense)              (None, 1024)              525312    \n",
      "_________________________________________________________________\n",
      "dense_4 (Dense)              (None, 2068)              2119700   \n",
      "=================================================================\n",
      "Total params: 2,645,012\n",
      "Trainable params: 2,645,012\n",
      "Non-trainable params: 0\n",
      "_________________________________________________________________\n"
     ]
    }
   ],
   "source": [
    "model_transfer = Sequential()\n",
    "model_transfer.add(GlobalAveragePooling2D(input_shape=x_train.shape[1:]))\n",
    "model_transfer.add(Dropout(0.2))\n",
    "model_transfer.add(Dense(1024, activation='relu'))\n",
    "model_transfer.add(Dense(len(ynames), activation='softmax'))\n",
    "model_transfer.summary()"
   ]
  },
  {
   "cell_type": "code",
   "execution_count": 30,
   "metadata": {},
   "outputs": [],
   "source": [
    "model_transfer.compile(loss='categorical_crossentropy', optimizer='adam',metrics=['accuracy'])"
   ]
  },
  {
   "cell_type": "code",
   "execution_count": 31,
   "metadata": {},
   "outputs": [
    {
     "name": "stdout",
     "output_type": "stream",
     "text": [
      "Train on 1240 samples, validate on 414 samples\n",
      "Epoch 1/100\n",
      "1240/1240 [==============================] - 2s 2ms/step - loss: 7.9227 - acc: 0.0000e+00 - val_loss: 7.9063 - val_acc: 0.0000e+00\n",
      "Epoch 2/100\n",
      "1240/1240 [==============================] - 2s 1ms/step - loss: 7.4335 - acc: 0.0048 - val_loss: 8.1572 - val_acc: 0.0000e+00\n",
      "Epoch 3/100\n",
      "1240/1240 [==============================] - 2s 1ms/step - loss: 7.1464 - acc: 0.0121 - val_loss: 10.1130 - val_acc: 0.0000e+00\n",
      "Epoch 4/100\n",
      "1240/1240 [==============================] - 2s 1ms/step - loss: 6.8498 - acc: 0.0274 - val_loss: 10.6833 - val_acc: 0.0000e+00\n",
      "Epoch 5/100\n",
      "1240/1240 [==============================] - 2s 1ms/step - loss: 6.4031 - acc: 0.0694 - val_loss: 11.3810 - val_acc: 0.0000e+00\n",
      "Epoch 6/100\n",
      "1240/1240 [==============================] - 2s 1ms/step - loss: 5.9057 - acc: 0.1282 - val_loss: 12.6642 - val_acc: 0.0000e+00\n",
      "Epoch 7/100\n",
      "1240/1240 [==============================] - 2s 1ms/step - loss: 5.3436 - acc: 0.1855 - val_loss: 13.5816 - val_acc: 0.0000e+00\n",
      "Epoch 8/100\n",
      "1240/1240 [==============================] - 2s 2ms/step - loss: 4.7226 - acc: 0.2879 - val_loss: 14.2693 - val_acc: 0.0000e+00\n",
      "Epoch 9/100\n",
      "1240/1240 [==============================] - 2s 1ms/step - loss: 4.1032 - acc: 0.4024 - val_loss: 14.8154 - val_acc: 0.0000e+00\n",
      "Epoch 10/100\n",
      "1240/1240 [==============================] - 2s 1ms/step - loss: 3.5112 - acc: 0.4863 - val_loss: 15.1689 - val_acc: 0.0000e+00\n",
      "Epoch 11/100\n",
      "1240/1240 [==============================] - 2s 1ms/step - loss: 2.9472 - acc: 0.5927 - val_loss: 15.4243 - val_acc: 0.0000e+00\n",
      "Epoch 12/100\n",
      "1240/1240 [==============================] - 2s 1ms/step - loss: 2.4602 - acc: 0.6694 - val_loss: 15.6600 - val_acc: 0.0000e+00\n",
      "Epoch 13/100\n",
      "1240/1240 [==============================] - 2s 1ms/step - loss: 2.0379 - acc: 0.7573 - val_loss: 15.7621 - val_acc: 0.0000e+00\n",
      "Epoch 14/100\n",
      "1240/1240 [==============================] - 1s 1ms/step - loss: 1.6667 - acc: 0.8129 - val_loss: 15.8170 - val_acc: 0.0000e+00\n",
      "Epoch 15/100\n",
      "1240/1240 [==============================] - 2s 1ms/step - loss: 1.3612 - acc: 0.8605 - val_loss: 15.8258 - val_acc: 0.0000e+00\n",
      "Epoch 16/100\n",
      "1240/1240 [==============================] - 2s 1ms/step - loss: 1.1358 - acc: 0.8831 - val_loss: 15.9049 - val_acc: 0.0000e+00\n",
      "Epoch 17/100\n",
      "1240/1240 [==============================] - 1s 1ms/step - loss: 0.9337 - acc: 0.8968 - val_loss: 15.9073 - val_acc: 0.0000e+00\n",
      "Epoch 18/100\n",
      "1240/1240 [==============================] - 2s 1ms/step - loss: 0.8080 - acc: 0.9290 - val_loss: 15.9214 - val_acc: 0.0000e+00\n",
      "Epoch 19/100\n",
      "1240/1240 [==============================] - 2s 1ms/step - loss: 0.6822 - acc: 0.9427 - val_loss: 15.9186 - val_acc: 0.0000e+00\n",
      "Epoch 20/100\n",
      "1240/1240 [==============================] - 2s 1ms/step - loss: 0.5712 - acc: 0.9500 - val_loss: 15.9337 - val_acc: 0.0000e+00\n",
      "Epoch 21/100\n",
      "1240/1240 [==============================] - 2s 1ms/step - loss: 0.5063 - acc: 0.9500 - val_loss: 15.9499 - val_acc: 0.0000e+00\n",
      "Epoch 22/100\n",
      "1240/1240 [==============================] - 2s 1ms/step - loss: 0.4391 - acc: 0.9556 - val_loss: 15.9647 - val_acc: 0.0000e+00\n",
      "Epoch 23/100\n",
      "1240/1240 [==============================] - 2s 1ms/step - loss: 0.3911 - acc: 0.9718 - val_loss: 15.9682 - val_acc: 0.0000e+00\n",
      "Epoch 24/100\n",
      "1240/1240 [==============================] - 2s 1ms/step - loss: 0.3409 - acc: 0.9653 - val_loss: 15.9871 - val_acc: 0.0000e+00\n",
      "Epoch 25/100\n",
      "1240/1240 [==============================] - 1s 1ms/step - loss: 0.3071 - acc: 0.9726 - val_loss: 15.9824 - val_acc: 0.0000e+00\n",
      "Epoch 26/100\n",
      "1240/1240 [==============================] - 2s 1ms/step - loss: 0.2725 - acc: 0.9750 - val_loss: 15.9869 - val_acc: 0.0000e+00\n",
      "Epoch 27/100\n",
      "1240/1240 [==============================] - 2s 2ms/step - loss: 0.2395 - acc: 0.9798 - val_loss: 15.9924 - val_acc: 0.0000e+00\n",
      "Epoch 28/100\n",
      "1240/1240 [==============================] - 2s 2ms/step - loss: 0.2264 - acc: 0.9839 - val_loss: 16.0132 - val_acc: 0.0000e+00\n",
      "Epoch 29/100\n",
      "1240/1240 [==============================] - 2s 1ms/step - loss: 0.1991 - acc: 0.9903 - val_loss: 16.0010 - val_acc: 0.0000e+00\n",
      "Epoch 30/100\n",
      "1240/1240 [==============================] - 2s 1ms/step - loss: 0.1941 - acc: 0.9839 - val_loss: 16.0226 - val_acc: 0.0000e+00\n",
      "Epoch 31/100\n",
      "1240/1240 [==============================] - 2s 1ms/step - loss: 0.1873 - acc: 0.9831 - val_loss: 16.0085 - val_acc: 0.0000e+00\n",
      "Epoch 32/100\n",
      "1240/1240 [==============================] - 2s 1ms/step - loss: 0.1715 - acc: 0.9831 - val_loss: 16.0207 - val_acc: 0.0000e+00\n",
      "Epoch 33/100\n",
      "1240/1240 [==============================] - 2s 2ms/step - loss: 0.1539 - acc: 0.9879 - val_loss: 16.0200 - val_acc: 0.0000e+00\n",
      "Epoch 34/100\n",
      "1240/1240 [==============================] - 2s 2ms/step - loss: 0.1433 - acc: 0.9871 - val_loss: 16.0218 - val_acc: 0.0000e+00\n",
      "Epoch 35/100\n",
      "1240/1240 [==============================] - 2s 1ms/step - loss: 0.1344 - acc: 0.9911 - val_loss: 16.0269 - val_acc: 0.0000e+00\n",
      "Epoch 36/100\n",
      "1240/1240 [==============================] - 2s 1ms/step - loss: 0.1180 - acc: 0.9903 - val_loss: 16.0266 - val_acc: 0.0000e+00\n",
      "Epoch 37/100\n",
      "1240/1240 [==============================] - 2s 1ms/step - loss: 0.1155 - acc: 0.9895 - val_loss: 16.0311 - val_acc: 0.0000e+00\n",
      "Epoch 38/100\n",
      "1240/1240 [==============================] - 2s 1ms/step - loss: 0.1217 - acc: 0.9879 - val_loss: 16.0333 - val_acc: 0.0000e+00\n",
      "Epoch 39/100\n",
      "1240/1240 [==============================] - 2s 1ms/step - loss: 0.1062 - acc: 0.9887 - val_loss: 16.0327 - val_acc: 0.0000e+00\n",
      "Epoch 40/100\n",
      "1240/1240 [==============================] - 2s 1ms/step - loss: 0.1003 - acc: 0.9927 - val_loss: 16.0300 - val_acc: 0.0000e+00\n",
      "Epoch 41/100\n",
      "1240/1240 [==============================] - 2s 1ms/step - loss: 0.0913 - acc: 0.9919 - val_loss: 16.0426 - val_acc: 0.0000e+00\n",
      "Epoch 42/100\n",
      "1240/1240 [==============================] - 2s 1ms/step - loss: 0.1160 - acc: 0.9839 - val_loss: 16.0405 - val_acc: 0.0000e+00\n",
      "Epoch 43/100\n",
      "1240/1240 [==============================] - 2s 1ms/step - loss: 0.0947 - acc: 0.9919 - val_loss: 16.0208 - val_acc: 0.0000e+00\n",
      "Epoch 44/100\n",
      "1240/1240 [==============================] - 2s 1ms/step - loss: 0.0899 - acc: 0.9911 - val_loss: 16.0319 - val_acc: 0.0000e+00\n",
      "Epoch 45/100\n",
      "1240/1240 [==============================] - 2s 1ms/step - loss: 0.0868 - acc: 0.9887 - val_loss: 16.0374 - val_acc: 0.0000e+00\n",
      "Epoch 46/100\n",
      "1240/1240 [==============================] - 2s 1ms/step - loss: 0.0781 - acc: 0.9935 - val_loss: 16.0471 - val_acc: 0.0000e+00\n",
      "Epoch 47/100\n",
      "1240/1240 [==============================] - 2s 1ms/step - loss: 0.0901 - acc: 0.9895 - val_loss: 16.0359 - val_acc: 0.0000e+00\n",
      "Epoch 48/100\n",
      "1240/1240 [==============================] - 2s 1ms/step - loss: 0.0716 - acc: 0.9927 - val_loss: 16.0369 - val_acc: 0.0000e+00\n",
      "Epoch 49/100\n",
      "1240/1240 [==============================] - 2s 1ms/step - loss: 0.0698 - acc: 0.9911 - val_loss: 16.0395 - val_acc: 0.0000e+00\n",
      "Epoch 50/100\n",
      "1240/1240 [==============================] - 2s 1ms/step - loss: 0.0716 - acc: 0.9919 - val_loss: 16.0376 - val_acc: 0.0000e+00\n",
      "Epoch 51/100\n",
      "1240/1240 [==============================] - 2s 1ms/step - loss: 0.0710 - acc: 0.9911 - val_loss: 16.0315 - val_acc: 0.0000e+00\n",
      "Epoch 52/100\n",
      "1240/1240 [==============================] - 2s 1ms/step - loss: 0.0719 - acc: 0.9871 - val_loss: 16.0448 - val_acc: 0.0000e+00\n",
      "Epoch 53/100\n",
      "1240/1240 [==============================] - 1s 1ms/step - loss: 0.0715 - acc: 0.9895 - val_loss: 16.0540 - val_acc: 0.0000e+00\n",
      "Epoch 54/100\n",
      "1240/1240 [==============================] - 2s 1ms/step - loss: 0.0646 - acc: 0.9944 - val_loss: 16.0383 - val_acc: 0.0000e+00\n",
      "Epoch 55/100\n",
      "1240/1240 [==============================] - 1s 1ms/step - loss: 0.0558 - acc: 0.9927 - val_loss: 16.0319 - val_acc: 0.0000e+00\n",
      "Epoch 56/100\n",
      "1240/1240 [==============================] - 2s 1ms/step - loss: 0.0556 - acc: 0.9952 - val_loss: 16.0292 - val_acc: 0.0000e+00\n",
      "Epoch 57/100\n",
      "1240/1240 [==============================] - 2s 1ms/step - loss: 0.0508 - acc: 0.9935 - val_loss: 16.0311 - val_acc: 0.0000e+00\n",
      "Epoch 58/100\n",
      "1240/1240 [==============================] - 2s 1ms/step - loss: 0.0498 - acc: 0.9927 - val_loss: 16.0389 - val_acc: 0.0000e+00\n"
     ]
    },
    {
     "name": "stdout",
     "output_type": "stream",
     "text": [
      "Epoch 59/100\n",
      "1240/1240 [==============================] - 2s 1ms/step - loss: 0.0435 - acc: 0.9944 - val_loss: 16.0418 - val_acc: 0.0000e+00\n",
      "Epoch 60/100\n",
      "1240/1240 [==============================] - 1s 1ms/step - loss: 0.0504 - acc: 0.9960 - val_loss: 16.0409 - val_acc: 0.0000e+00\n",
      "Epoch 61/100\n",
      "1240/1240 [==============================] - 2s 1ms/step - loss: 0.0525 - acc: 0.9927 - val_loss: 16.0524 - val_acc: 0.0000e+00\n",
      "Epoch 62/100\n",
      "1240/1240 [==============================] - 1s 1ms/step - loss: 0.0487 - acc: 0.9935 - val_loss: 16.0525 - val_acc: 0.0000e+00\n",
      "Epoch 63/100\n",
      "1240/1240 [==============================] - 2s 1ms/step - loss: 0.0657 - acc: 0.9903 - val_loss: 16.0430 - val_acc: 0.0000e+00\n",
      "Epoch 64/100\n",
      "1240/1240 [==============================] - 2s 1ms/step - loss: 0.0513 - acc: 0.9919 - val_loss: 16.0385 - val_acc: 0.0000e+00\n",
      "Epoch 65/100\n",
      "1240/1240 [==============================] - 2s 2ms/step - loss: 0.0405 - acc: 0.9960 - val_loss: 16.0385 - val_acc: 0.0000e+00\n",
      "Epoch 66/100\n",
      "1240/1240 [==============================] - 2s 1ms/step - loss: 0.0375 - acc: 0.9944 - val_loss: 16.0460 - val_acc: 0.0000e+00\n",
      "Epoch 67/100\n",
      "1240/1240 [==============================] - 2s 1ms/step - loss: 0.0462 - acc: 0.9919 - val_loss: 16.0526 - val_acc: 0.0000e+00\n",
      "Epoch 68/100\n",
      "1240/1240 [==============================] - 2s 1ms/step - loss: 0.0518 - acc: 0.9927 - val_loss: 16.0618 - val_acc: 0.0000e+00\n",
      "Epoch 69/100\n",
      "1240/1240 [==============================] - 2s 1ms/step - loss: 0.0633 - acc: 0.9895 - val_loss: 16.0626 - val_acc: 0.0000e+00\n",
      "Epoch 70/100\n",
      "1240/1240 [==============================] - 2s 2ms/step - loss: 0.0563 - acc: 0.9903 - val_loss: 16.0429 - val_acc: 0.0000e+00\n",
      "Epoch 71/100\n",
      "1240/1240 [==============================] - 2s 2ms/step - loss: 0.0511 - acc: 0.9911 - val_loss: 16.0412 - val_acc: 0.0000e+00\n",
      "Epoch 72/100\n",
      "1240/1240 [==============================] - 2s 1ms/step - loss: 0.0341 - acc: 0.9992 - val_loss: 16.0327 - val_acc: 0.0000e+00\n",
      "Epoch 73/100\n",
      "1240/1240 [==============================] - 2s 1ms/step - loss: 0.0415 - acc: 0.9927 - val_loss: 16.0416 - val_acc: 0.0000e+00\n",
      "Epoch 74/100\n",
      "1240/1240 [==============================] - 2s 1ms/step - loss: 0.0438 - acc: 0.9927 - val_loss: 16.0494 - val_acc: 0.0000e+00\n",
      "Epoch 75/100\n",
      "1240/1240 [==============================] - 2s 1ms/step - loss: 0.0354 - acc: 0.9935 - val_loss: 16.0542 - val_acc: 0.0000e+00\n",
      "Epoch 76/100\n",
      "1240/1240 [==============================] - 1s 1ms/step - loss: 0.0341 - acc: 0.9935 - val_loss: 16.0527 - val_acc: 0.0000e+00\n",
      "Epoch 77/100\n",
      "1240/1240 [==============================] - 2s 1ms/step - loss: 0.0301 - acc: 0.9968 - val_loss: 16.0510 - val_acc: 0.0000e+00\n",
      "Epoch 78/100\n",
      "1240/1240 [==============================] - 2s 2ms/step - loss: 0.0399 - acc: 0.9919 - val_loss: 16.0502 - val_acc: 0.0000e+00\n",
      "Epoch 79/100\n",
      "1240/1240 [==============================] - 2s 1ms/step - loss: 0.0461 - acc: 0.9935 - val_loss: 16.0419 - val_acc: 0.0000e+00\n",
      "Epoch 80/100\n",
      "1240/1240 [==============================] - 2s 1ms/step - loss: 0.0358 - acc: 0.9935 - val_loss: 16.0516 - val_acc: 0.0000e+00\n",
      "Epoch 81/100\n",
      "1240/1240 [==============================] - 2s 2ms/step - loss: 0.0282 - acc: 0.9968 - val_loss: 16.0517 - val_acc: 0.0000e+00\n",
      "Epoch 82/100\n",
      "1240/1240 [==============================] - 2s 2ms/step - loss: 0.0348 - acc: 0.9944 - val_loss: 16.0496 - val_acc: 0.0000e+00\n",
      "Epoch 83/100\n",
      "1240/1240 [==============================] - 2s 1ms/step - loss: 0.0321 - acc: 0.9944 - val_loss: 16.0511 - val_acc: 0.0000e+00\n",
      "Epoch 84/100\n",
      "1240/1240 [==============================] - 2s 1ms/step - loss: 0.0348 - acc: 0.9911 - val_loss: 16.0402 - val_acc: 0.0000e+00\n",
      "Epoch 85/100\n",
      "1240/1240 [==============================] - 2s 1ms/step - loss: 0.0344 - acc: 0.9944 - val_loss: 16.0544 - val_acc: 0.0000e+00\n",
      "Epoch 86/100\n",
      "1240/1240 [==============================] - 2s 1ms/step - loss: 0.0271 - acc: 0.9968 - val_loss: 16.0632 - val_acc: 0.0000e+00\n",
      "Epoch 87/100\n",
      "1240/1240 [==============================] - 2s 1ms/step - loss: 0.0277 - acc: 0.9952 - val_loss: 16.0575 - val_acc: 0.0000e+00\n",
      "Epoch 88/100\n",
      "1240/1240 [==============================] - 2s 1ms/step - loss: 0.0216 - acc: 0.9968 - val_loss: 16.0507 - val_acc: 0.0000e+00\n",
      "Epoch 89/100\n",
      "1240/1240 [==============================] - 2s 1ms/step - loss: 0.0239 - acc: 0.9952 - val_loss: 16.0542 - val_acc: 0.0000e+00\n",
      "Epoch 90/100\n",
      "1240/1240 [==============================] - ETA: 0s - loss: 0.0320 - acc: 0.995 - 2s 1ms/step - loss: 0.0319 - acc: 0.9960 - val_loss: 16.0694 - val_acc: 0.0000e+00\n",
      "Epoch 91/100\n",
      "1240/1240 [==============================] - 2s 2ms/step - loss: 0.0278 - acc: 0.9960 - val_loss: 16.0593 - val_acc: 0.0000e+00\n",
      "Epoch 92/100\n",
      "1240/1240 [==============================] - 2s 2ms/step - loss: 0.0335 - acc: 0.9976 - val_loss: 16.0598 - val_acc: 0.0000e+00\n",
      "Epoch 93/100\n",
      "1240/1240 [==============================] - 2s 2ms/step - loss: 0.0311 - acc: 0.9935 - val_loss: 16.0663 - val_acc: 0.0000e+00\n",
      "Epoch 94/100\n",
      "1240/1240 [==============================] - 2s 2ms/step - loss: 0.0343 - acc: 0.9935 - val_loss: 16.0551 - val_acc: 0.0000e+00\n",
      "Epoch 95/100\n",
      "1240/1240 [==============================] - 2s 2ms/step - loss: 0.0336 - acc: 0.9960 - val_loss: 16.0450 - val_acc: 0.0000e+00\n",
      "Epoch 96/100\n",
      "1240/1240 [==============================] - 2s 2ms/step - loss: 0.0337 - acc: 0.9935 - val_loss: 16.0658 - val_acc: 0.0000e+00\n",
      "Epoch 97/100\n",
      "1240/1240 [==============================] - 2s 1ms/step - loss: 0.0319 - acc: 0.9944 - val_loss: 16.0564 - val_acc: 0.0000e+00\n",
      "Epoch 98/100\n",
      "1240/1240 [==============================] - 2s 2ms/step - loss: 0.0416 - acc: 0.9903 - val_loss: 16.0577 - val_acc: 0.0000e+00\n",
      "Epoch 99/100\n",
      "1240/1240 [==============================] - 2s 2ms/step - loss: 0.0389 - acc: 0.9903 - val_loss: 16.0554 - val_acc: 0.0000e+00\n",
      "Epoch 100/100\n",
      "1240/1240 [==============================] - 2s 1ms/step - loss: 0.0345 - acc: 0.9944 - val_loss: 16.0398 - val_acc: 0.0000e+00\n"
     ]
    }
   ],
   "source": [
    "history = model_transfer.fit(x_train, y_train, batch_size=100, epochs=100, validation_data=(x_val, y_val))"
   ]
  },
  {
   "cell_type": "code",
   "execution_count": 32,
   "metadata": {},
   "outputs": [
    {
     "name": "stdout",
     "output_type": "stream",
     "text": [
      "2068\n"
     ]
    },
    {
     "data": {
      "text/plain": [
       "[0.32546306, 0.3136689, 0.16879745]"
      ]
     },
     "execution_count": 32,
     "metadata": {},
     "output_type": "execute_result"
    }
   ],
   "source": [
    "yhat = model_transfer.predict(x_test)\n",
    "print(len(yhat[12]))\n",
    "heapq.nlargest(3,yhat[12])"
   ]
  },
  {
   "cell_type": "code",
   "execution_count": 33,
   "metadata": {},
   "outputs": [
    {
     "data": {
      "text/plain": [
       "'image_00237.jpg'"
      ]
     },
     "execution_count": 33,
     "metadata": {},
     "output_type": "execute_result"
    }
   ],
   "source": [
    "ytmax=np.argmax(y_test, axis=-1, out=None)\n",
    "y_true = le.inverse_transform(ytmax)\n",
    "y_true[0]"
   ]
  },
  {
   "cell_type": "code",
   "execution_count": 34,
   "metadata": {},
   "outputs": [
    {
     "data": {
      "text/plain": [
       "'image_01033.jpg'"
      ]
     },
     "execution_count": 34,
     "metadata": {},
     "output_type": "execute_result"
    }
   ],
   "source": [
    "yhatmax=np.argmax(yhat,axis=1, out=None)\n",
    "y_pred = le.inverse_transform(yhatmax)\n",
    "y_pred[0]"
   ]
  },
  {
   "cell_type": "code",
   "execution_count": 35,
   "metadata": {},
   "outputs": [
    {
     "data": {
      "text/html": [
       "<div>\n",
       "<style scoped>\n",
       "    .dataframe tbody tr th:only-of-type {\n",
       "        vertical-align: middle;\n",
       "    }\n",
       "\n",
       "    .dataframe tbody tr th {\n",
       "        vertical-align: top;\n",
       "    }\n",
       "\n",
       "    .dataframe thead th {\n",
       "        text-align: right;\n",
       "    }\n",
       "</style>\n",
       "<table border=\"1\" class=\"dataframe\">\n",
       "  <thead>\n",
       "    <tr style=\"text-align: right;\">\n",
       "      <th></th>\n",
       "      <th>class</th>\n",
       "      <th>imagelabel</th>\n",
       "    </tr>\n",
       "  </thead>\n",
       "  <tbody>\n",
       "    <tr>\n",
       "      <th>2063</th>\n",
       "      <td>80</td>\n",
       "      <td>image_02064.jpg</td>\n",
       "    </tr>\n",
       "    <tr>\n",
       "      <th>2064</th>\n",
       "      <td>80</td>\n",
       "      <td>image_02065.jpg</td>\n",
       "    </tr>\n",
       "    <tr>\n",
       "      <th>2065</th>\n",
       "      <td>80</td>\n",
       "      <td>image_02066.jpg</td>\n",
       "    </tr>\n",
       "    <tr>\n",
       "      <th>2066</th>\n",
       "      <td>80</td>\n",
       "      <td>image_02067.jpg</td>\n",
       "    </tr>\n",
       "    <tr>\n",
       "      <th>2067</th>\n",
       "      <td>80</td>\n",
       "      <td>image_02068.jpg</td>\n",
       "    </tr>\n",
       "  </tbody>\n",
       "</table>\n",
       "</div>"
      ],
      "text/plain": [
       "      class       imagelabel\n",
       "2063     80  image_02064.jpg\n",
       "2064     80  image_02065.jpg\n",
       "2065     80  image_02066.jpg\n",
       "2066     80  image_02067.jpg\n",
       "2067     80  image_02068.jpg"
      ]
     },
     "execution_count": 35,
     "metadata": {},
     "output_type": "execute_result"
    }
   ],
   "source": [
    "df2.tail()"
   ]
  },
  {
   "cell_type": "raw",
   "metadata": {},
   "source": [
    "%pylab inline\n",
    "import matplotlib.pyplot as plt\n",
    "import matplotlib.image as mpimg\n",
    "img=mpimg.imread(imagepath)\n",
    "imgplot = plt.imshow(img)\n",
    "plt.show()"
   ]
  },
  {
   "cell_type": "code",
   "execution_count": 36,
   "metadata": {},
   "outputs": [],
   "source": [
    "top1,top2,top3,top4,top5 = retriev_top5(yhat)"
   ]
  },
  {
   "cell_type": "markdown",
   "metadata": {},
   "source": [
    "Class Labeling"
   ]
  },
  {
   "cell_type": "code",
   "execution_count": 37,
   "metadata": {},
   "outputs": [],
   "source": [
    "classt = get_class(df2, y_true)\n",
    "#print(classt)\n",
    "class1 = get_class(df2, top1)\n",
    "#print(class1)\n",
    "class2 = get_class(df2, top2)\n",
    "class3 = get_class(df2, top3)\n",
    "class4 = get_class(df2, top4)\n",
    "class5 = get_class(df2, top5)\n",
    "#print(class2)"
   ]
  },
  {
   "cell_type": "markdown",
   "metadata": {},
   "source": [
    "Similarity Calculation"
   ]
  },
  {
   "cell_type": "code",
   "execution_count": 38,
   "metadata": {},
   "outputs": [],
   "source": [
    "cs1 = find_similarity(y_true,top1)\n",
    "cs2 = find_similarity(y_true,top2)\n",
    "cs3 = find_similarity(y_true,top3)\n",
    "cs4 = find_similarity(y_true,top4)\n",
    "cs5 = find_similarity(y_true,top5)"
   ]
  },
  {
   "cell_type": "code",
   "execution_count": 39,
   "metadata": {},
   "outputs": [
    {
     "name": "stdout",
     "output_type": "stream",
     "text": [
      "\n",
      "Accuracy on first retrieved set:  67.63 %\n",
      "\n",
      "Accuracy on second retrieved set:  60.63 %\n",
      "\n",
      "Accuracy on third retrieved set:  57.25 %\n",
      "\n",
      "Accuracy on fourth retrieved set:  51.21 %\n",
      "\n",
      "Accuracy on fivth retrieved set:  51.93 %\n"
     ]
    }
   ],
   "source": [
    "print(\"\\nAccuracy on first retrieved set: \", round(accuracy_score(classt,class1)*100,2),'%')   # Classes\n",
    "print(\"\\nAccuracy on second retrieved set: \", round(accuracy_score(classt,class2)*100,2),'%')\n",
    "print(\"\\nAccuracy on third retrieved set: \", round(accuracy_score(classt,class3)*100,2),'%')\n",
    "print(\"\\nAccuracy on fourth retrieved set: \", round(accuracy_score(classt,class4)*100,2),'%')\n",
    "print(\"\\nAccuracy on fivth retrieved set: \", round(accuracy_score(classt,class5)*100,2),'%')"
   ]
  },
  {
   "cell_type": "code",
   "execution_count": 40,
   "metadata": {},
   "outputs": [],
   "source": [
    "f_df = pd.DataFrame(index = list(range(len(y_true))))\n",
    "f_df['QueryImageName'] = y_true\n",
    "f_df['QueryImageClass'] = classt\n",
    "f_df['Top1 ImgCls'] = class1\n",
    "f_df['Top2 ImgCls'] = class2\n",
    "f_df['Top3 ImgCls'] = class3\n",
    "f_df['Top4 ImgCls'] = class4\n",
    "f_df['Top5 ImgCls'] = class5"
   ]
  },
  {
   "cell_type": "code",
   "execution_count": 43,
   "metadata": {},
   "outputs": [],
   "source": [
    "f_df['Top1 similaritys'] = cs1\n",
    "f_df['Top2 similaritys'] = cs2\n",
    "f_df['Top3 similaritys'] = cs3\n",
    "f_df['Top4 similaritys'] = cs4\n",
    "f_df['Top5 similaritys'] = cs5"
   ]
  },
  {
   "cell_type": "code",
   "execution_count": 44,
   "metadata": {
    "scrolled": true
   },
   "outputs": [
    {
     "data": {
      "text/html": [
       "<div>\n",
       "<style scoped>\n",
       "    .dataframe tbody tr th:only-of-type {\n",
       "        vertical-align: middle;\n",
       "    }\n",
       "\n",
       "    .dataframe tbody tr th {\n",
       "        vertical-align: top;\n",
       "    }\n",
       "\n",
       "    .dataframe thead th {\n",
       "        text-align: right;\n",
       "    }\n",
       "</style>\n",
       "<table border=\"1\" class=\"dataframe\">\n",
       "  <thead>\n",
       "    <tr style=\"text-align: right;\">\n",
       "      <th></th>\n",
       "      <th>QueryImageName</th>\n",
       "      <th>QueryImageClass</th>\n",
       "      <th>Top1 ImgCls</th>\n",
       "      <th>Top2 ImgCls</th>\n",
       "      <th>Top3 ImgCls</th>\n",
       "      <th>Top4 ImgCls</th>\n",
       "      <th>Top5 ImgCls</th>\n",
       "      <th>Top1 similaritys</th>\n",
       "      <th>Top2 similaritys</th>\n",
       "      <th>Top3 similaritys</th>\n",
       "      <th>Top4 similaritys</th>\n",
       "      <th>Top5 similaritys</th>\n",
       "    </tr>\n",
       "  </thead>\n",
       "  <tbody>\n",
       "    <tr>\n",
       "      <th>409</th>\n",
       "      <td>image_01054.jpg</td>\n",
       "      <td>46</td>\n",
       "      <td>46</td>\n",
       "      <td>46</td>\n",
       "      <td>46</td>\n",
       "      <td>46</td>\n",
       "      <td>82</td>\n",
       "      <td>0.62</td>\n",
       "      <td>0.63</td>\n",
       "      <td>0.65</td>\n",
       "      <td>0.64</td>\n",
       "      <td>0.59</td>\n",
       "    </tr>\n",
       "    <tr>\n",
       "      <th>410</th>\n",
       "      <td>image_01940.jpg</td>\n",
       "      <td>78</td>\n",
       "      <td>78</td>\n",
       "      <td>78</td>\n",
       "      <td>78</td>\n",
       "      <td>78</td>\n",
       "      <td>78</td>\n",
       "      <td>0.80</td>\n",
       "      <td>0.78</td>\n",
       "      <td>0.76</td>\n",
       "      <td>0.82</td>\n",
       "      <td>0.80</td>\n",
       "    </tr>\n",
       "    <tr>\n",
       "      <th>411</th>\n",
       "      <td>image_01474.jpg</td>\n",
       "      <td>51</td>\n",
       "      <td>51</td>\n",
       "      <td>51</td>\n",
       "      <td>51</td>\n",
       "      <td>51</td>\n",
       "      <td>51</td>\n",
       "      <td>0.63</td>\n",
       "      <td>0.68</td>\n",
       "      <td>0.75</td>\n",
       "      <td>0.69</td>\n",
       "      <td>0.79</td>\n",
       "    </tr>\n",
       "    <tr>\n",
       "      <th>412</th>\n",
       "      <td>image_00461.jpg</td>\n",
       "      <td>88</td>\n",
       "      <td>78</td>\n",
       "      <td>78</td>\n",
       "      <td>78</td>\n",
       "      <td>82</td>\n",
       "      <td>78</td>\n",
       "      <td>0.81</td>\n",
       "      <td>0.78</td>\n",
       "      <td>0.79</td>\n",
       "      <td>0.71</td>\n",
       "      <td>0.82</td>\n",
       "    </tr>\n",
       "    <tr>\n",
       "      <th>413</th>\n",
       "      <td>image_01564.jpg</td>\n",
       "      <td>44</td>\n",
       "      <td>44</td>\n",
       "      <td>51</td>\n",
       "      <td>51</td>\n",
       "      <td>44</td>\n",
       "      <td>44</td>\n",
       "      <td>0.67</td>\n",
       "      <td>0.72</td>\n",
       "      <td>0.73</td>\n",
       "      <td>0.72</td>\n",
       "      <td>0.69</td>\n",
       "    </tr>\n",
       "  </tbody>\n",
       "</table>\n",
       "</div>"
      ],
      "text/plain": [
       "      QueryImageName  QueryImageClass  Top1 ImgCls  Top2 ImgCls  Top3 ImgCls  \\\n",
       "409  image_01054.jpg               46           46           46           46   \n",
       "410  image_01940.jpg               78           78           78           78   \n",
       "411  image_01474.jpg               51           51           51           51   \n",
       "412  image_00461.jpg               88           78           78           78   \n",
       "413  image_01564.jpg               44           44           51           51   \n",
       "\n",
       "     Top4 ImgCls  Top5 ImgCls  Top1 similaritys  Top2 similaritys  \\\n",
       "409           46           82              0.62              0.63   \n",
       "410           78           78              0.80              0.78   \n",
       "411           51           51              0.63              0.68   \n",
       "412           82           78              0.81              0.78   \n",
       "413           44           44              0.67              0.72   \n",
       "\n",
       "     Top3 similaritys  Top4 similaritys  Top5 similaritys  \n",
       "409              0.65              0.64              0.59  \n",
       "410              0.76              0.82              0.80  \n",
       "411              0.75              0.69              0.79  \n",
       "412              0.79              0.71              0.82  \n",
       "413              0.73              0.72              0.69  "
      ]
     },
     "execution_count": 44,
     "metadata": {},
     "output_type": "execute_result"
    }
   ],
   "source": [
    "f_df.tail()"
   ]
  },
  {
   "cell_type": "code",
   "execution_count": 978,
   "metadata": {},
   "outputs": [],
   "source": [
    "f_df.to_csv('Result.csv')"
   ]
  },
  {
   "cell_type": "code",
   "execution_count": null,
   "metadata": {},
   "outputs": [],
   "source": []
  },
  {
   "cell_type": "code",
   "execution_count": null,
   "metadata": {},
   "outputs": [],
   "source": []
  },
  {
   "cell_type": "code",
   "execution_count": null,
   "metadata": {},
   "outputs": [],
   "source": []
  },
  {
   "cell_type": "code",
   "execution_count": null,
   "metadata": {},
   "outputs": [],
   "source": []
  },
  {
   "cell_type": "code",
   "execution_count": null,
   "metadata": {},
   "outputs": [],
   "source": []
  }
 ],
 "metadata": {
  "kernelspec": {
   "display_name": "Python 3",
   "language": "python",
   "name": "python3"
  },
  "language_info": {
   "codemirror_mode": {
    "name": "ipython",
    "version": 3
   },
   "file_extension": ".py",
   "mimetype": "text/x-python",
   "name": "python",
   "nbconvert_exporter": "python",
   "pygments_lexer": "ipython3",
   "version": "3.6.4"
  }
 },
 "nbformat": 4,
 "nbformat_minor": 2
}
