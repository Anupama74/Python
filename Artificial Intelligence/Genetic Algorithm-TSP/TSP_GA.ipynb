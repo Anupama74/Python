{
 "cells": [
  {
   "cell_type": "code",
   "execution_count": 1,
   "metadata": {},
   "outputs": [],
   "source": [
    "import numpy as np, random\n",
    "import matplotlib.pyplot as plt\n",
    "import seaborn as sns\n",
    "from copy import deepcopy"
   ]
  },
  {
   "cell_type": "code",
   "execution_count": 2,
   "metadata": {
    "scrolled": false
   },
   "outputs": [
    {
     "data": {
      "image/png": "[encoded data removed]",
      "text/plain": [
       "<Figure size 432x288 with 2 Axes>"
      ]
     },
     "metadata": {},
     "output_type": "display_data"
    },
    {
     "name": "stdout",
     "output_type": "stream",
     "text": [
      "[[ 0  8 50 31 12 48 36  2  5 39 10]\n",
      " [ 8  0 38  9 33 37 22  6  4 14 32]\n",
      " [50 38  0 11 55  1 23 46 41 17 52]\n",
      " [31  9 11  0 44 13 16 19 25 18 42]\n",
      " [12 33 55 44  0 54 53 30 28 45  7]\n",
      " [48 37  1 13 54  0 26 47 40 24 51]\n",
      " [36 22 23 16 53 26  0 29 35 34 49]\n",
      " [ 2  6 46 19 30 47 29  0  3 27 15]\n",
      " [ 5  4 41 25 28 40 35  3  0 20 21]\n",
      " [39 14 17 18 45 24 34 27 20  0 43]\n",
      " [10 32 52 42  7 51 49 15 21 43  0]]\n"
     ]
    }
   ],
   "source": [
    "d_mat=np.loadtxt('trail.txt', dtype='int')    # German_cities.txt\n",
    "ax = sns.heatmap(d_mat)\n",
    "plt.show()\n",
    "print(d_mat)"
   ]
  },
  {
   "cell_type": "markdown",
   "metadata": {},
   "source": [
    "I have taken datasets from here ::\n",
    "https://people.sc.fsu.edu/~jburkardt/datasets/cities/cities.html"
   ]
  },
  {
   "cell_type": "code",
   "execution_count": 3,
   "metadata": {},
   "outputs": [],
   "source": [
    "def cities(num_routes,N):\n",
    "    city=[]\n",
    "    for i in range(num_routes):\n",
    "        r= random.sample(range(0,N),N)\n",
    "        city.append(r)   \n",
    "    return city\n"
   ]
  },
  {
   "cell_type": "markdown",
   "metadata": {},
   "source": [
    "I have considered randomly few city combinations and produced population/distance connection according to it to form a full loop"
   ]
  },
  {
   "cell_type": "code",
   "execution_count": 4,
   "metadata": {},
   "outputs": [],
   "source": [
    "def population(N,number_of_routes,cities,matrix):\n",
    "    qwe1=[]\n",
    "    n_r =number_of_routes\n",
    "    for i in range(1,n_r+1):    # 1,N+1\n",
    "        for j in range(0,N):        # 0,N\n",
    "            qwe1.append((cities[i-1][j-1], cities[i-1][j])) \n",
    "            y = list(qwe1[q:q+N] for q in range(0,len(qwe1),N)) \n",
    "    #print (y)\n",
    "    yu=[]\n",
    "    for j in range (0,n_r):     # n_routes\n",
    "        u=y[j]\n",
    "        for i in range(0, N):   #matrix\n",
    "            yu.append(matrix[u[i]])     \n",
    "            population = list(yu[q:q+N] for q in range(0, len(yu),N))      \n",
    "    return population"
   ]
  },
  {
   "cell_type": "code",
   "execution_count": 5,
   "metadata": {},
   "outputs": [],
   "source": [
    "def fitness_pop(population):\n",
    "    fitness = list(map(sum,population))\n",
    "    return fitness"
   ]
  },
  {
   "cell_type": "markdown",
   "metadata": {},
   "source": [
    "Fitness function is defined as per the problem, lesser the distance = lesser the fitness value = better the solution."
   ]
  },
  {
   "cell_type": "code",
   "execution_count": 6,
   "metadata": {},
   "outputs": [],
   "source": [
    "def matingpool(population,fitness,number_of_parents,random_number):\n",
    "    par=[]\n",
    "    for i in range (0,number_of_parents):\n",
    "        min_fit = np.min(fitness)  \n",
    "        min_fitness_id = np.where(fitness == min_fit)\n",
    "        min_fitness_id = min_fitness_id[0][0]\n",
    "        #print(min_fit)\n",
    "        fitness[min_fitness_id] = random_number\n",
    "        par.append(population[min_fitness_id])\n",
    "    return par"
   ]
  },
  {
   "cell_type": "markdown",
   "metadata": {},
   "source": [
    "choosing parents with minimum fitness value to get better results for further process"
   ]
  },
  {
   "cell_type": "code",
   "execution_count": 7,
   "metadata": {
    "scrolled": true
   },
   "outputs": [],
   "source": [
    "def mp_parents(number_of_parents,matingpool, population, cities):\n",
    "    parent_cities=[]\n",
    "    for i in range (0,number_of_parents): #no. of parents\n",
    "        c_index= population.index(matingpool[i])\n",
    "        #print(c_index)\n",
    "        parent_cities.append(cities[c_index])\n",
    "        #print(parent_cities)\n",
    "    return parent_cities"
   ]
  },
  {
   "cell_type": "markdown",
   "metadata": {},
   "source": [
    "Ordered Crossover technique for permutation problems: and m,n are considered as crossover points and the rest are filled as per the position without repeating."
   ]
  },
  {
   "cell_type": "code",
   "execution_count": 8,
   "metadata": {
    "scrolled": false
   },
   "outputs": [],
   "source": [
    "def crossover (N,sel_par):\n",
    "    n=int(N/2)-1\n",
    "    m=int(n-2)\n",
    "    #print(m,n)\n",
    "    offspring = []\n",
    "    for first, second in zip(range(0,3,2),range(1,4,2)): \n",
    "        p_1 = sel_par[first]\n",
    "        p_2 = sel_par[second]\n",
    "        r1,r2 = [True]*N, [True]*N\n",
    "        for i in range (N):\n",
    "            if i<m or i>n:\n",
    "                r1[p_2[i]]=False\n",
    "                r2[p_1[i]]=False\n",
    "        temp1,temp2 = p_1, p_2\n",
    "        C1,C2 = n+1,n+1\n",
    "        for i in range(N):\n",
    "            if not r1[temp1[(i + n + 1) % N]]:\n",
    "                p_1[C1 % N] = temp1[(i + n + 1) % N]\n",
    "                C1 += 1\n",
    "            if not r2[temp2[(i + n + 1) % N]]:\n",
    "                p_2[C2 % N] = temp2[(i + n + 1) % N]\n",
    "                C2 += 1\n",
    "        for i in range(m, n + 1):\n",
    "            p_1[i], p_2[i] = p_2[i], p_1[i]\n",
    "        \n",
    "        offspring.append(p_1)\n",
    "        offspring.append(p_2)\n",
    "        #print(offspring)\n",
    "    return (offspring)"
   ]
  },
  {
   "cell_type": "markdown",
   "metadata": {},
   "source": [
    "Scramble Mutation technique for Combinatorial, permutation problem: s_num and e_num are considered randomly and one can change them accordingly to shuffle over"
   ]
  },
  {
   "cell_type": "code",
   "execution_count": 9,
   "metadata": {},
   "outputs": [],
   "source": [
    "def mutate (crossover1, N):\n",
    "    for i in crossover1:\n",
    "        s_num = 1      #int(N/2)\n",
    "        e_num = 4      #N-2\n",
    "        tmp = i[s_num:e_num]\n",
    "        random.shuffle(tmp)\n",
    "        i[s_num:e_num] = tmp\n",
    "        #print(i)\n",
    "    return crossover1\n"
   ]
  },
  {
   "cell_type": "code",
   "execution_count": 10,
   "metadata": {},
   "outputs": [],
   "source": [
    "def new_generations(city):\n",
    "    pop= population(N,len(city),city,d_mat)\n",
    "    fit1 = fitness_pop(pop)\n",
    "    mp= matingpool (pop,fit1,num_par,random_num)\n",
    "    selected_parents= mp_parents(num_par,mp,pop,city)\n",
    "    old_pop = deepcopy(selected_parents)\n",
    "\n",
    "    offsprings = crossover(N,selected_parents)\n",
    "    mutated_pop = mutate(offsprings, N) \n",
    "    \n",
    "    new_generation=[]\n",
    "    new_generation[0:len(old_pop)] = deepcopy(old_pop)\n",
    "    new_generation[len(old_pop):]=deepcopy(mutated_pop)\n",
    "    \n",
    "    return new_generation"
   ]
  },
  {
   "cell_type": "code",
   "execution_count": 11,
   "metadata": {},
   "outputs": [],
   "source": [
    "def new_gen_fitness(generation):\n",
    "    pop_new = population(N,len(generation),generation,d_mat)\n",
    "    fit_new = fitness_pop(pop_new)\n",
    "    return fit_new"
   ]
  },
  {
   "cell_type": "code",
   "execution_count": 12,
   "metadata": {},
   "outputs": [],
   "source": [
    "N= len(d_mat)\n",
    "number_of_routes = 16\n",
    "num_par = 4    #number of parents\n",
    "random_num = 10000\n",
    "num_generation=7\n"
   ]
  },
  {
   "cell_type": "markdown",
   "metadata": {},
   "source": [
    "N = length of input matrix\n",
    "number of routes are the number of possible combinations of cities connection, can consider any number within n!\n",
    "Number of parents are 4\n",
    "random number is considered just to ignore the already read data in the loop and opt for higher number for higher datasets\n",
    "number of generations are 7\n"
   ]
  },
  {
   "cell_type": "code",
   "execution_count": 13,
   "metadata": {
    "scrolled": false
   },
   "outputs": [
    {
     "name": "stdout",
     "output_type": "stream",
     "text": [
      "Generation : 0\n",
      "Best solution-City Route(Population):  [9, 2, 4, 10, 0, 3, 5, 6, 8, 7, 1]\n",
      "Best solution-DistanceSum(Fitness): 217\n",
      "Generation : 1\n",
      "Best solution-City Route(Population):  [9, 2, 4, 10, 0, 3, 5, 6, 8, 7, 1]\n",
      "Best solution-DistanceSum(Fitness): 217\n",
      "Generation : 2\n",
      "Best solution-City Route(Population):  [9, 2, 4, 10, 0, 3, 5, 6, 8, 7, 1]\n",
      "Best solution-DistanceSum(Fitness): 217\n",
      "Generation : 3\n",
      "Best solution-City Route(Population):  [9, 2, 4, 10, 0, 3, 5, 6, 8, 7, 1]\n",
      "Best solution-DistanceSum(Fitness): 217\n",
      "Generation : 4\n",
      "Best solution-City Route(Population):  [9, 2, 4, 10, 0, 3, 5, 6, 8, 7, 1]\n",
      "Best solution-DistanceSum(Fitness): 217\n",
      "Generation : 5\n",
      "Best solution-City Route(Population):  [10, 0, 6, 5, 3, 8, 7, 1, 9, 2, 4]\n",
      "Best solution-DistanceSum(Fitness): 212\n",
      "Generation : 6\n",
      "Best solution-City Route(Population):  [10, 0, 6, 5, 3, 8, 7, 1, 9, 2, 4]\n",
      "Best solution-DistanceSum(Fitness): 212\n"
     ]
    }
   ],
   "source": [
    "for geners in range(0,num_generation):\n",
    "    if geners == 0:\n",
    "        print(\"Generation :\", geners)\n",
    "        city = cities(number_of_routes,N)\n",
    "        generatn = new_generations (city)\n",
    "        \n",
    "        #pop_1= population(N,len(generatn),generatn,d_mat)\n",
    "        #fit_1 = fitness_pop(pop_1)\n",
    "        \n",
    "        fit_1 = new_gen_fitness(generatn)\n",
    "        best_min_fitness = np.where(fit_1==np.min(fit_1))\n",
    "        best_fit = list(best_min_fitness[0])\n",
    "\n",
    "        print(\"Best solution-City Route(Population): \", generatn[best_fit[0]])\n",
    "        print(\"Best solution-DistanceSum(Fitness):\", fit_1[best_fit[0]])\n",
    "    else:\n",
    "        print(\"Generation :\", geners)\n",
    "        city = generatn\n",
    "        #print(\"first:\", generatn)\n",
    "        next_geners = new_generations (city)\n",
    "        #print(\"next:\", next_geners)\n",
    "        generatn = deepcopy(next_geners)\n",
    "        \n",
    "        #pop_new= population(N,len(next_geners),next_geners,d_mat)\n",
    "       # fit_new = fitness_pop(pop_new)\n",
    "        \n",
    "        fit_new = new_gen_fitness(next_geners)\n",
    "        best_min_fitness = np.where(fit_new==np.min(fit_new))\n",
    "        best_fit = list(best_min_fitness[0])\n",
    "\n",
    "        print(\"Best solution-City Route(Population): \", next_geners[best_fit[0]])\n",
    "        print(\"Best solution-DistanceSum(Fitness):\", fit_new[best_fit[0]])\n",
    "        "
   ]
  },
  {
   "cell_type": "code",
   "execution_count": null,
   "metadata": {},
   "outputs": [],
   "source": []
  }
 ],
 "metadata": {
  "kernelspec": {
   "display_name": "Python 3",
   "language": "python",
   "name": "python3"
  },
  "language_info": {
   "codemirror_mode": {
    "name": "ipython",
    "version": 3
   },
   "file_extension": ".py",
   "mimetype": "text/x-python",
   "name": "python",
   "nbconvert_exporter": "python",
   "pygments_lexer": "ipython3",
   "version": "3.6.4"
  }
 },
 "nbformat": 4,
 "nbformat_minor": 2
}
