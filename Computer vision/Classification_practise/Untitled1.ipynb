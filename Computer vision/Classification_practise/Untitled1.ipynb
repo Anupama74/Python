{
 "cells": [
  {
   "cell_type": "code",
   "execution_count": 57,
   "metadata": {},
   "outputs": [],
   "source": [
    "import pandas as pd\n",
    "import numpy as np\n",
    "#import matplotlib.pyplot as plt\n",
    "import seaborn as sns\n",
    "import chardet\n",
    "from sklearn.feature_extraction.text import CountVectorizer\n",
    "from sklearn.feature_extraction.text import TfidfVectorizer\n",
    "from sklearn.linear_model import LogisticRegression\n",
    "from sklearn.model_selection import train_test_split"
   ]
  },
  {
   "cell_type": "code",
   "execution_count": 58,
   "metadata": {},
   "outputs": [
    {
     "name": "stdout",
     "output_type": "stream",
     "text": [
      "{'encoding': 'Windows-1252', 'confidence': 0.73, 'language': ''}\n"
     ]
    }
   ],
   "source": [
    "with open(\"dataset.csv\", 'rb') as rawdata:\n",
    "    result = chardet.detect(rawdata.read())\n",
    "print(result)"
   ]
  },
  {
   "cell_type": "code",
   "execution_count": 59,
   "metadata": {},
   "outputs": [],
   "source": [
    "df = pd.read_csv(\"dataset.csv\", encoding='Windows-1252')"
   ]
  },
  {
   "cell_type": "code",
   "execution_count": 60,
   "metadata": {},
   "outputs": [
    {
     "data": {
      "text/html": [
       "<div>\n",
       "<style scoped>\n",
       "    .dataframe tbody tr th:only-of-type {\n",
       "        vertical-align: middle;\n",
       "    }\n",
       "\n",
       "    .dataframe tbody tr th {\n",
       "        vertical-align: top;\n",
       "    }\n",
       "\n",
       "    .dataframe thead th {\n",
       "        text-align: right;\n",
       "    }\n",
       "</style>\n",
       "<table border=\"1\" class=\"dataframe\">\n",
       "  <thead>\n",
       "    <tr style=\"text-align: right;\">\n",
       "      <th></th>\n",
       "      <th>subject</th>\n",
       "      <th>Customer</th>\n",
       "      <th>Location</th>\n",
       "      <th>Rating</th>\n",
       "      <th>date_time</th>\n",
       "      <th>Views</th>\n",
       "      <th>complaint</th>\n",
       "      <th>Total_reviews_by_customer</th>\n",
       "      <th>Customer_follower</th>\n",
       "    </tr>\n",
       "  </thead>\n",
       "  <tbody>\n",
       "    <tr>\n",
       "      <th>0</th>\n",
       "      <td>Cheaters</td>\n",
       "      <td>ambajirao_a</td>\n",
       "      <td>Bangalore India</td>\n",
       "      <td>1</td>\n",
       "      <td>Apr 22, 2014 05:22 PM</td>\n",
       "      <td>9558 Views</td>\n",
       "      <td>Third class service and they are cheaters. Nev...</td>\n",
       "      <td>2 Reviews</td>\n",
       "      <td>1 Follower</td>\n",
       "    </tr>\n",
       "    <tr>\n",
       "      <th>1</th>\n",
       "      <td>Well, think again!!!!!</td>\n",
       "      <td>deekshasethi</td>\n",
       "      <td>new delhi india</td>\n",
       "      <td>4</td>\n",
       "      <td>Mar 13, 2006 09:41 PM</td>\n",
       "      <td>3548 Views</td>\n",
       "      <td>Its true that insurance is a services based in...</td>\n",
       "      <td>7 Reviews</td>\n",
       "      <td>6 Followers</td>\n",
       "    </tr>\n",
       "    <tr>\n",
       "      <th>2</th>\n",
       "      <td>Metlife is the worst insurance company</td>\n",
       "      <td>lijok</td>\n",
       "      <td>Kochi India</td>\n",
       "      <td>1</td>\n",
       "      <td>Jun 04, 2013 09:08 AM</td>\n",
       "      <td>9311 Views</td>\n",
       "      <td>I have taken a Metlife policy in 2008 August w...</td>\n",
       "      <td>1 Review</td>\n",
       "      <td>NaN</td>\n",
       "    </tr>\n",
       "    <tr>\n",
       "      <th>3</th>\n",
       "      <td>HAVE U MET LIFE TODAY??????</td>\n",
       "      <td>Kiran4</td>\n",
       "      <td>mumbai india</td>\n",
       "      <td>4</td>\n",
       "      <td>Oct 14, 2004 02:06 PM</td>\n",
       "      <td>15309 Views</td>\n",
       "      <td>Scene 1 : A lady weeping besides the dead body...</td>\n",
       "      <td>15 Reviews</td>\n",
       "      <td>28 Followers</td>\n",
       "    </tr>\n",
       "    <tr>\n",
       "      <th>4</th>\n",
       "      <td>Irresponsible persons  working over there in PNB</td>\n",
       "      <td>srikanthkumar.a</td>\n",
       "      <td>Bengaluru/ Bangalore India</td>\n",
       "      <td>1</td>\n",
       "      <td>May 31, 2017 07:30 PM</td>\n",
       "      <td>3480 Views</td>\n",
       "      <td>Once policy created, no one look back  to cust...</td>\n",
       "      <td>1 Review</td>\n",
       "      <td>NaN</td>\n",
       "    </tr>\n",
       "  </tbody>\n",
       "</table>\n",
       "</div>"
      ],
      "text/plain": [
       "                                            subject         Customer  \\\n",
       "0                                          Cheaters      ambajirao_a   \n",
       "1                            Well, think again!!!!!     deekshasethi   \n",
       "2            Metlife is the worst insurance company            lijok   \n",
       "3                       HAVE U MET LIFE TODAY??????           Kiran4   \n",
       "4  Irresponsible persons  working over there in PNB  srikanthkumar.a   \n",
       "\n",
       "                     Location  Rating              date_time        Views  \\\n",
       "0             Bangalore India       1  Apr 22, 2014 05:22 PM   9558 Views   \n",
       "1             new delhi india       4  Mar 13, 2006 09:41 PM   3548 Views   \n",
       "2                 Kochi India       1  Jun 04, 2013 09:08 AM   9311 Views   \n",
       "3                mumbai india       4  Oct 14, 2004 02:06 PM  15309 Views   \n",
       "4  Bengaluru/ Bangalore India       1  May 31, 2017 07:30 PM   3480 Views   \n",
       "\n",
       "                                           complaint  \\\n",
       "0  Third class service and they are cheaters. Nev...   \n",
       "1  Its true that insurance is a services based in...   \n",
       "2  I have taken a Metlife policy in 2008 August w...   \n",
       "3  Scene 1 : A lady weeping besides the dead body...   \n",
       "4  Once policy created, no one look back  to cust...   \n",
       "\n",
       "  Total_reviews_by_customer Customer_follower  \n",
       "0                 2 Reviews        1 Follower  \n",
       "1                 7 Reviews       6 Followers  \n",
       "2                  1 Review               NaN  \n",
       "3                15 Reviews      28 Followers  \n",
       "4                  1 Review               NaN  "
      ]
     },
     "execution_count": 60,
     "metadata": {},
     "output_type": "execute_result"
    }
   ],
   "source": [
    "df.head(5)"
   ]
  },
  {
   "cell_type": "code",
   "execution_count": 61,
   "metadata": {},
   "outputs": [
    {
     "data": {
      "text/plain": [
       "Index(['subject', 'Customer', 'Location', 'Rating', 'date_time', 'Views',\n",
       "       'complaint', 'Total_reviews_by_customer', 'Customer_follower'],\n",
       "      dtype='object')"
      ]
     },
     "execution_count": 61,
     "metadata": {},
     "output_type": "execute_result"
    }
   ],
   "source": [
    "df = df.dropna()\n",
    "#df.head()\n",
    "df.columns\n"
   ]
  },
  {
   "cell_type": "code",
   "execution_count": 62,
   "metadata": {},
   "outputs": [],
   "source": [
    "#df[['Views','Total_reviews_by_customer','Customer_follower']] = df[['Views','Total_reviews_by_customer','Customer_follower']].replace(np.NaN,0)\n",
    "df['Views'] = df['Views'].map(lambda x:x.strip(' Views'))\n",
    "df['Total_reviews_by_customer'] = df['Total_reviews_by_customer'].map(lambda x:x.strip(' Reviews'))\n",
    "df['Customer_follower'] = df['Customer_follower'].map(lambda x:x.strip('Follower Followers'))"
   ]
  },
  {
   "cell_type": "code",
   "execution_count": 63,
   "metadata": {},
   "outputs": [],
   "source": [
    "X=df['complaint']\n",
    "y=df['Rating']"
   ]
  },
  {
   "cell_type": "code",
   "execution_count": 64,
   "metadata": {},
   "outputs": [
    {
     "name": "stdout",
     "output_type": "stream",
     "text": [
      "# features: 5828\n",
      "# train records: 31\n",
      "# test records: 11\n",
      "Model Accuracy: 0.45454545454545453\n",
      "\n",
      "-Top 20 positive-\n",
      "Coefficient              Word\n",
      "   0.276063              year\n",
      "   0.225426              fund\n",
      "   0.204092             fraud\n",
      "   0.177885         surrender\n",
      "   0.168572                fd\n",
      "   0.150129  surrender policy\n",
      "   0.143288                rs\n",
      "   0.142240           charges\n",
      "   0.134021              want\n",
      "   0.131528          products\n",
      "   0.127995             value\n",
      "   0.117626           details\n",
      "   0.116511        fund value\n",
      "   0.113211            policy\n",
      "   0.108996       surrendered\n",
      "   0.108013              told\n",
      "   0.107350          benefits\n",
      "   0.107233              help\n",
      "   0.102202           courier\n",
      "   0.101170            market\n",
      "\n",
      "-Top 20 negative-\n",
      "Coefficient            Word\n",
      "  -0.115936           icici\n",
      "  -0.118202             lic\n",
      "  -0.119565       execution\n",
      "  -0.121356        services\n",
      "  -0.134702     application\n",
      "  -0.143623             bad\n",
      "  -0.149190            life\n",
      "  -0.150465         assured\n",
      "  -0.151968         premium\n",
      "  -0.157680           years\n",
      "  -0.158761         payment\n",
      "  -0.159340            term\n",
      "  -0.161118     sum assured\n",
      "  -0.164630              ur\n",
      "  -0.177415     pnb metlife\n",
      "  -0.182407             sum\n",
      "  -0.199822  life insurance\n",
      "  -0.209777          online\n",
      "  -0.210242       insurance\n",
      "  -0.289888    metlife life\n"
     ]
    },
    {
     "name": "stderr",
     "output_type": "stream",
     "text": [
      "C:\\Users\\admin\\Anaconda3\\lib\\site-packages\\sklearn\\linear_model\\logistic.py:433: FutureWarning: Default solver will be changed to 'lbfgs' in 0.22. Specify a solver to silence this warning.\n",
      "  FutureWarning)\n",
      "C:\\Users\\admin\\Anaconda3\\lib\\site-packages\\sklearn\\linear_model\\logistic.py:460: FutureWarning: Default multi_class will be changed to 'auto' in 0.22. Specify the multi_class option to silence this warning.\n",
      "  \"this warning.\", FutureWarning)\n"
     ]
    }
   ],
   "source": [
    "tfidf_n = TfidfVectorizer(ngram_range=(1,2),stop_words = 'english')\n",
    "text_fit(X, y, tfidf_n, LogisticRegression())"
   ]
  },
  {
   "cell_type": "code",
   "execution_count": 67,
   "metadata": {},
   "outputs": [],
   "source": [
    "#c = CountVectorizer(stop_words = 'english')\n",
    "\n",
    "#text_fit(X, y, c, LogisticRegression())"
   ]
  },
  {
   "cell_type": "markdown",
   "metadata": {},
   "source": [
    "It is not completed yet."
   ]
  }
 ],
 "metadata": {
  "kernelspec": {
   "display_name": "Python 3",
   "language": "python",
   "name": "python3"
  },
  "language_info": {
   "codemirror_mode": {
    "name": "ipython",
    "version": 3
   },
   "file_extension": ".py",
   "mimetype": "text/x-python",
   "name": "python",
   "nbconvert_exporter": "python",
   "pygments_lexer": "ipython3",
   "version": "3.6.4"
  }
 },
 "nbformat": 4,
 "nbformat_minor": 2
}
